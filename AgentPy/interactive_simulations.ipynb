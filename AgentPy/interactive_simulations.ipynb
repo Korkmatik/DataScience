{
 "cells": [
  {
   "cell_type": "code",
   "execution_count": 1,
   "metadata": {},
   "outputs": [],
   "source": [
    "import agentpy as ap\n",
    "import ipysimulate as ips\n",
    "\n",
    "from ipywidgets import AppLayout\n",
    "from agentpy.examples import WealthModel, SegregationModel"
   ]
  },
  {
   "cell_type": "code",
   "execution_count": 2,
   "metadata": {},
   "outputs": [],
   "source": [
    "model = WealthModel()"
   ]
  },
  {
   "cell_type": "code",
   "execution_count": 3,
   "metadata": {},
   "outputs": [],
   "source": [
    "parameters = {\n",
    "    \"agents\": 1_000,\n",
    "    \"steps\": 100,\n",
    "    \"fps\": ap.IntRange(1, 20, 5),\n",
    "}"
   ]
  },
  {
   "cell_type": "code",
   "execution_count": 4,
   "metadata": {},
   "outputs": [],
   "source": [
    "# Display time-steps and gini parameters live during the simulation\n",
    "control = ips.Control(\n",
    "    model,\n",
    "    parameters,\n",
    "    variables=(\"t\", \"gini\")\n",
    ")"
   ]
  },
  {
   "cell_type": "code",
   "execution_count": 5,
   "metadata": {},
   "outputs": [],
   "source": [
    "# Create line plot of gini variable\n",
    "lineplot = ips.Lineplot(control, \"gini\")"
   ]
  },
  {
   "cell_type": "code",
   "execution_count": 6,
   "metadata": {},
   "outputs": [
    {
     "data": {
      "application/vnd.jupyter.widget-view+json": {
       "model_id": "49c3dff9917249dca0b3c07e53c7763c",
       "version_major": 2,
       "version_minor": 0
      },
      "text/plain": [
       "AppLayout(children=(Control(layout=Layout(grid_area='left-sidebar'), parameters={'agents': 1000, 'steps': 100,…"
      ]
     },
     "execution_count": 6,
     "metadata": {},
     "output_type": "execute_result"
    }
   ],
   "source": [
    "# Create layout to display control and lineplot\n",
    "AppLayout(\n",
    "    left_sidebar=control,\n",
    "    center=lineplot,\n",
    "    pane_widths=[\"125px\", 1, 1],\n",
    "    height=\"400px\",\n",
    ")"
   ]
  },
  {
   "cell_type": "code",
   "execution_count": null,
   "metadata": {},
   "outputs": [],
   "source": []
  }
 ],
 "metadata": {
  "kernelspec": {
   "display_name": "Python 3 (ipykernel)",
   "language": "python",
   "name": "python3"
  },
  "language_info": {
   "codemirror_mode": {
    "name": "ipython",
    "version": 3
   },
   "file_extension": ".py",
   "mimetype": "text/x-python",
   "name": "python",
   "nbconvert_exporter": "python",
   "pygments_lexer": "ipython3",
   "version": "3.10.9"
  },
  "vscode": {
   "interpreter": {
    "hash": "7d55722d456b69b9020d960e6f92b8864635d1be1109e9b2b23c9623acfda2a6"
   }
  }
 },
 "nbformat": 4,
 "nbformat_minor": 4
}

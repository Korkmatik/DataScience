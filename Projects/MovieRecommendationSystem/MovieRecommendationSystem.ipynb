{
 "cells": [
  {
   "cell_type": "code",
   "execution_count": 1,
   "metadata": {
    "collapsed": true
   },
   "outputs": [],
   "source": [
    "import numpy as np\n",
    "import pandas as pd\n",
    "import difflib\n",
    "\n",
    "from sklearn.feature_extraction.text import TfidfVectorizer\n",
    "from sklearn.metrics.pairwise import cosine_similarity"
   ]
  },
  {
   "cell_type": "markdown",
   "source": [
    "# Data Colletion and Pre-Processing"
   ],
   "metadata": {
    "collapsed": false
   }
  },
  {
   "cell_type": "code",
   "execution_count": 2,
   "outputs": [
    {
     "data": {
      "text/plain": "   filmtv_id                                        title  year      genre  \\\n0          2  Bugs Bunny's Third Movie: 1001 Rabbit Tales  1982  Animation   \n1          3                    18 anni tra una settimana  1991      Drama   \n2         17                             Ride a Wild Pony  1976   Romantic   \n3         18                                        Diner  1982     Comedy   \n4         20              A che servono questi quattrini?  1942     Comedy   \n\n   duration        country                             directors  \\\n0        76  United States  David Detiege, Art Davis, Bill Perez   \n1        98          Italy                         Luigi Perelli   \n2        91  United States                           Don Chaffey   \n3        95  United States                        Barry Levinson   \n4        85          Italy                        Esodo Pratelli   \n\n                                              actors  avg_vote  critics_vote  \\\n0                                                NaN       7.7          8.00   \n1  Kim Rossi Stuart, Simona Cavallari, Ennio Fant...       6.5          6.00   \n2  Michael Craig, John Meillon, Eva Griffith, Gra...       5.6          6.00   \n3  Mickey Rourke, Steve Guttenberg, Ellen Barkin,...       7.0          8.00   \n4  Eduardo De Filippo, Peppino De Filippo, Clelia...       5.9          5.33   \n\n   public_vote  total_votes  \\\n0          7.0           22   \n1          7.0            4   \n2          5.0            9   \n3          6.0           18   \n4          7.0           15   \n\n                                         description  \\\n0  With two protruding front teeth, a slightly sl...   \n1  Samantha, not yet eighteen, leaves the comfort...   \n2  In the Australia of the pioneers, a boy and a ...   \n3  Five boys from Baltimore have a habit of meeti...   \n4  With a stratagem, the penniless and somewhat p...   \n\n                                               notes  humor  rhythm  effort  \\\n0  These are many small independent stories, whic...      3       3       0   \n1  Luigi Perelli, the director of the \"Piovra\", o...      0       2       0   \n2  \"Ecological\" story with a happy ending, not wi...      1       2       1   \n3  A cast of will be famous for Levinson's direct...      2       2       0   \n4  Taken from the play by Armando Curcio that the...      3       1       1   \n\n   tension  erotism  \n0        0        0  \n1        2        0  \n2        0        0  \n3        1        2  \n4        0        0  ",
      "text/html": "<div>\n<style scoped>\n    .dataframe tbody tr th:only-of-type {\n        vertical-align: middle;\n    }\n\n    .dataframe tbody tr th {\n        vertical-align: top;\n    }\n\n    .dataframe thead th {\n        text-align: right;\n    }\n</style>\n<table border=\"1\" class=\"dataframe\">\n  <thead>\n    <tr style=\"text-align: right;\">\n      <th></th>\n      <th>filmtv_id</th>\n      <th>title</th>\n      <th>year</th>\n      <th>genre</th>\n      <th>duration</th>\n      <th>country</th>\n      <th>directors</th>\n      <th>actors</th>\n      <th>avg_vote</th>\n      <th>critics_vote</th>\n      <th>public_vote</th>\n      <th>total_votes</th>\n      <th>description</th>\n      <th>notes</th>\n      <th>humor</th>\n      <th>rhythm</th>\n      <th>effort</th>\n      <th>tension</th>\n      <th>erotism</th>\n    </tr>\n  </thead>\n  <tbody>\n    <tr>\n      <th>0</th>\n      <td>2</td>\n      <td>Bugs Bunny's Third Movie: 1001 Rabbit Tales</td>\n      <td>1982</td>\n      <td>Animation</td>\n      <td>76</td>\n      <td>United States</td>\n      <td>David Detiege, Art Davis, Bill Perez</td>\n      <td>NaN</td>\n      <td>7.7</td>\n      <td>8.00</td>\n      <td>7.0</td>\n      <td>22</td>\n      <td>With two protruding front teeth, a slightly sl...</td>\n      <td>These are many small independent stories, whic...</td>\n      <td>3</td>\n      <td>3</td>\n      <td>0</td>\n      <td>0</td>\n      <td>0</td>\n    </tr>\n    <tr>\n      <th>1</th>\n      <td>3</td>\n      <td>18 anni tra una settimana</td>\n      <td>1991</td>\n      <td>Drama</td>\n      <td>98</td>\n      <td>Italy</td>\n      <td>Luigi Perelli</td>\n      <td>Kim Rossi Stuart, Simona Cavallari, Ennio Fant...</td>\n      <td>6.5</td>\n      <td>6.00</td>\n      <td>7.0</td>\n      <td>4</td>\n      <td>Samantha, not yet eighteen, leaves the comfort...</td>\n      <td>Luigi Perelli, the director of the \"Piovra\", o...</td>\n      <td>0</td>\n      <td>2</td>\n      <td>0</td>\n      <td>2</td>\n      <td>0</td>\n    </tr>\n    <tr>\n      <th>2</th>\n      <td>17</td>\n      <td>Ride a Wild Pony</td>\n      <td>1976</td>\n      <td>Romantic</td>\n      <td>91</td>\n      <td>United States</td>\n      <td>Don Chaffey</td>\n      <td>Michael Craig, John Meillon, Eva Griffith, Gra...</td>\n      <td>5.6</td>\n      <td>6.00</td>\n      <td>5.0</td>\n      <td>9</td>\n      <td>In the Australia of the pioneers, a boy and a ...</td>\n      <td>\"Ecological\" story with a happy ending, not wi...</td>\n      <td>1</td>\n      <td>2</td>\n      <td>1</td>\n      <td>0</td>\n      <td>0</td>\n    </tr>\n    <tr>\n      <th>3</th>\n      <td>18</td>\n      <td>Diner</td>\n      <td>1982</td>\n      <td>Comedy</td>\n      <td>95</td>\n      <td>United States</td>\n      <td>Barry Levinson</td>\n      <td>Mickey Rourke, Steve Guttenberg, Ellen Barkin,...</td>\n      <td>7.0</td>\n      <td>8.00</td>\n      <td>6.0</td>\n      <td>18</td>\n      <td>Five boys from Baltimore have a habit of meeti...</td>\n      <td>A cast of will be famous for Levinson's direct...</td>\n      <td>2</td>\n      <td>2</td>\n      <td>0</td>\n      <td>1</td>\n      <td>2</td>\n    </tr>\n    <tr>\n      <th>4</th>\n      <td>20</td>\n      <td>A che servono questi quattrini?</td>\n      <td>1942</td>\n      <td>Comedy</td>\n      <td>85</td>\n      <td>Italy</td>\n      <td>Esodo Pratelli</td>\n      <td>Eduardo De Filippo, Peppino De Filippo, Clelia...</td>\n      <td>5.9</td>\n      <td>5.33</td>\n      <td>7.0</td>\n      <td>15</td>\n      <td>With a stratagem, the penniless and somewhat p...</td>\n      <td>Taken from the play by Armando Curcio that the...</td>\n      <td>3</td>\n      <td>1</td>\n      <td>1</td>\n      <td>0</td>\n      <td>0</td>\n    </tr>\n  </tbody>\n</table>\n</div>"
     },
     "execution_count": 2,
     "metadata": {},
     "output_type": "execute_result"
    }
   ],
   "source": [
    "# loading data from csv file\n",
    "df = pd.read_csv(\"movies.csv\")\n",
    "df.head()"
   ],
   "metadata": {
    "collapsed": false
   }
  },
  {
   "cell_type": "code",
   "execution_count": 4,
   "outputs": [
    {
     "data": {
      "text/plain": "           filmtv_id          year      duration      avg_vote  critics_vote  \\\ncount   40046.000000  40046.000000  40046.000000  40046.000000  35536.000000   \nmean    55787.412026   1993.155846    100.503446      5.810970      5.806275   \nstd     57706.121659     23.624476     26.691985      1.412188      1.597825   \nmin         2.000000   1897.000000     41.000000      1.000000      1.000000   \n25%     15474.250000   1976.000000     90.000000      4.900000      4.670000   \n50%     35469.500000   2000.000000     96.000000      5.900000      6.000000   \n75%     68946.500000   2013.000000    107.000000      6.900000      7.000000   \nmax    219729.000000   2023.000000   1525.000000     10.000000     10.000000   \n\n        public_vote   total_votes         humor        rhythm        effort  \\\ncount  39580.000000  40046.000000  40046.000000  40046.000000  40046.000000   \nmean       5.939869     36.099036      0.580657      1.362408      0.687110   \nstd        1.488673     68.089964      0.897701      1.146867      1.111305   \nmin        1.000000      1.000000      0.000000      0.000000      0.000000   \n25%        5.000000      5.000000      0.000000      0.000000      0.000000   \n50%        6.000000     11.000000      0.000000      2.000000      0.000000   \n75%        7.000000     35.000000      1.000000      2.000000      1.000000   \nmax       10.000000   1052.000000      5.000000      5.000000      5.000000   \n\n            tension       erotism  \ncount  40046.000000  40046.000000  \nmean       0.930130      0.301578  \nstd        1.092918      0.628829  \nmin        0.000000      0.000000  \n25%        0.000000      0.000000  \n50%        1.000000      0.000000  \n75%        2.000000      0.000000  \nmax        5.000000      4.000000  ",
      "text/html": "<div>\n<style scoped>\n    .dataframe tbody tr th:only-of-type {\n        vertical-align: middle;\n    }\n\n    .dataframe tbody tr th {\n        vertical-align: top;\n    }\n\n    .dataframe thead th {\n        text-align: right;\n    }\n</style>\n<table border=\"1\" class=\"dataframe\">\n  <thead>\n    <tr style=\"text-align: right;\">\n      <th></th>\n      <th>filmtv_id</th>\n      <th>year</th>\n      <th>duration</th>\n      <th>avg_vote</th>\n      <th>critics_vote</th>\n      <th>public_vote</th>\n      <th>total_votes</th>\n      <th>humor</th>\n      <th>rhythm</th>\n      <th>effort</th>\n      <th>tension</th>\n      <th>erotism</th>\n    </tr>\n  </thead>\n  <tbody>\n    <tr>\n      <th>count</th>\n      <td>40046.000000</td>\n      <td>40046.000000</td>\n      <td>40046.000000</td>\n      <td>40046.000000</td>\n      <td>35536.000000</td>\n      <td>39580.000000</td>\n      <td>40046.000000</td>\n      <td>40046.000000</td>\n      <td>40046.000000</td>\n      <td>40046.000000</td>\n      <td>40046.000000</td>\n      <td>40046.000000</td>\n    </tr>\n    <tr>\n      <th>mean</th>\n      <td>55787.412026</td>\n      <td>1993.155846</td>\n      <td>100.503446</td>\n      <td>5.810970</td>\n      <td>5.806275</td>\n      <td>5.939869</td>\n      <td>36.099036</td>\n      <td>0.580657</td>\n      <td>1.362408</td>\n      <td>0.687110</td>\n      <td>0.930130</td>\n      <td>0.301578</td>\n    </tr>\n    <tr>\n      <th>std</th>\n      <td>57706.121659</td>\n      <td>23.624476</td>\n      <td>26.691985</td>\n      <td>1.412188</td>\n      <td>1.597825</td>\n      <td>1.488673</td>\n      <td>68.089964</td>\n      <td>0.897701</td>\n      <td>1.146867</td>\n      <td>1.111305</td>\n      <td>1.092918</td>\n      <td>0.628829</td>\n    </tr>\n    <tr>\n      <th>min</th>\n      <td>2.000000</td>\n      <td>1897.000000</td>\n      <td>41.000000</td>\n      <td>1.000000</td>\n      <td>1.000000</td>\n      <td>1.000000</td>\n      <td>1.000000</td>\n      <td>0.000000</td>\n      <td>0.000000</td>\n      <td>0.000000</td>\n      <td>0.000000</td>\n      <td>0.000000</td>\n    </tr>\n    <tr>\n      <th>25%</th>\n      <td>15474.250000</td>\n      <td>1976.000000</td>\n      <td>90.000000</td>\n      <td>4.900000</td>\n      <td>4.670000</td>\n      <td>5.000000</td>\n      <td>5.000000</td>\n      <td>0.000000</td>\n      <td>0.000000</td>\n      <td>0.000000</td>\n      <td>0.000000</td>\n      <td>0.000000</td>\n    </tr>\n    <tr>\n      <th>50%</th>\n      <td>35469.500000</td>\n      <td>2000.000000</td>\n      <td>96.000000</td>\n      <td>5.900000</td>\n      <td>6.000000</td>\n      <td>6.000000</td>\n      <td>11.000000</td>\n      <td>0.000000</td>\n      <td>2.000000</td>\n      <td>0.000000</td>\n      <td>1.000000</td>\n      <td>0.000000</td>\n    </tr>\n    <tr>\n      <th>75%</th>\n      <td>68946.500000</td>\n      <td>2013.000000</td>\n      <td>107.000000</td>\n      <td>6.900000</td>\n      <td>7.000000</td>\n      <td>7.000000</td>\n      <td>35.000000</td>\n      <td>1.000000</td>\n      <td>2.000000</td>\n      <td>1.000000</td>\n      <td>2.000000</td>\n      <td>0.000000</td>\n    </tr>\n    <tr>\n      <th>max</th>\n      <td>219729.000000</td>\n      <td>2023.000000</td>\n      <td>1525.000000</td>\n      <td>10.000000</td>\n      <td>10.000000</td>\n      <td>10.000000</td>\n      <td>1052.000000</td>\n      <td>5.000000</td>\n      <td>5.000000</td>\n      <td>5.000000</td>\n      <td>5.000000</td>\n      <td>4.000000</td>\n    </tr>\n  </tbody>\n</table>\n</div>"
     },
     "execution_count": 4,
     "metadata": {},
     "output_type": "execute_result"
    }
   ],
   "source": [
    "df.describe()"
   ],
   "metadata": {
    "collapsed": false
   }
  },
  {
   "cell_type": "code",
   "execution_count": 6,
   "outputs": [
    {
     "data": {
      "text/plain": "(40046, 19)"
     },
     "execution_count": 6,
     "metadata": {},
     "output_type": "execute_result"
    }
   ],
   "source": [
    "# checking rows and columns\n",
    "\n",
    "df.shape"
   ],
   "metadata": {
    "collapsed": false
   }
  },
  {
   "cell_type": "code",
   "execution_count": 7,
   "outputs": [],
   "source": [
    "selected_features = [ \"genre\", \"title\", \"directors\" ]"
   ],
   "metadata": {
    "collapsed": false
   }
  },
  {
   "cell_type": "code",
   "execution_count": 8,
   "outputs": [],
   "source": [
    "for feature in selected_features:\n",
    "    df[feature] = df[feature].fillna(\"\")"
   ],
   "metadata": {
    "collapsed": false
   }
  },
  {
   "cell_type": "markdown",
   "source": [
    "# Fitting a vectorizer\n"
   ],
   "metadata": {
    "collapsed": false
   }
  },
  {
   "cell_type": "code",
   "execution_count": 13,
   "outputs": [],
   "source": [
    "vectorizer = TfidfVectorizer()\n",
    "\n",
    "feature_vector = vectorizer.fit_transform(df[\"title\"])"
   ],
   "metadata": {
    "collapsed": false
   }
  },
  {
   "cell_type": "code",
   "execution_count": 14,
   "outputs": [
    {
     "data": {
      "text/plain": "(40046, 28728)"
     },
     "execution_count": 14,
     "metadata": {},
     "output_type": "execute_result"
    }
   ],
   "source": [
    "feature_vector.shape"
   ],
   "metadata": {
    "collapsed": false
   }
  },
  {
   "cell_type": "markdown",
   "source": [
    "# calculating similarity scores using cosine similarity\n"
   ],
   "metadata": {
    "collapsed": false
   }
  },
  {
   "cell_type": "code",
   "execution_count": 15,
   "outputs": [],
   "source": [
    "similarity = cosine_similarity(feature_vector)"
   ],
   "metadata": {
    "collapsed": false
   }
  },
  {
   "cell_type": "code",
   "execution_count": 16,
   "outputs": [
    {
     "data": {
      "text/plain": "(40046, 40046)"
     },
     "execution_count": 16,
     "metadata": {},
     "output_type": "execute_result"
    }
   ],
   "source": [
    "similarity.shape"
   ],
   "metadata": {
    "collapsed": false
   }
  },
  {
   "cell_type": "markdown",
   "source": [
    "# Recommendation System"
   ],
   "metadata": {
    "collapsed": false
   }
  },
  {
   "cell_type": "code",
   "execution_count": 24,
   "outputs": [
    {
     "name": "stdout",
     "output_type": "stream",
     "text": [
      "Close Match: Iron Man\n",
      "Index of Movie: 20976\n",
      "Recommendations: [(20976, 1.0), (23348, 1.0), (27083, 1.0)]\n",
      "Recommendation IDs: [20976, 23348, 27083]\n",
      "Recommended movies: ['Iron Man', 'Iron Man 2', 'Iron Man 3']\n"
     ]
    }
   ],
   "source": [
    "movie_name = input(\"Movie Name: \")\n",
    "\n",
    "close_match = difflib.get_close_matches(movie_name, df[\"title\"].tolist())[0]\n",
    "print(\"Close Match:\", close_match)\n",
    "\n",
    "index_of_movie = df[df[\"title\"] == close_match].index.values[0]\n",
    "print(\"Index of Movie:\", index_of_movie)\n",
    "\n",
    "similarity_score = list( enumerate( similarity[index_of_movie] ) )\n",
    "#print(\"Similarity Score:\", similarity_score)\n",
    "\n",
    "sorted_similarity_score = sorted( similarity_score, key=lambda x: x[1], reverse=True )\n",
    "#print(\"Sorted similarity Score:\", sorted_similarity_score)\n",
    "\n",
    "# Recommending the 3 most similar movies\n",
    "recommendations = sorted_similarity_score[:3]\n",
    "print(\"Recommendations:\", recommendations)\n",
    "\n",
    "# Getting the title of the movies\n",
    "recommendation_ids = [ recommendation[0] for recommendation in recommendations ]\n",
    "print(\"Recommendation IDs:\", recommendation_ids)\n",
    "\n",
    "recommendation_titles = [ df[ df.index == id ][\"title\"].tolist()[0] for id in recommendation_ids ]\n",
    "print(\"Recommended movies:\", recommendation_titles)"
   ],
   "metadata": {
    "collapsed": false
   }
  },
  {
   "cell_type": "code",
   "execution_count": null,
   "outputs": [],
   "source": [],
   "metadata": {
    "collapsed": false
   }
  }
 ],
 "metadata": {
  "kernelspec": {
   "display_name": "Python 3",
   "language": "python",
   "name": "python3"
  },
  "language_info": {
   "codemirror_mode": {
    "name": "ipython",
    "version": 2
   },
   "file_extension": ".py",
   "mimetype": "text/x-python",
   "name": "python",
   "nbconvert_exporter": "python",
   "pygments_lexer": "ipython2",
   "version": "2.7.6"
  }
 },
 "nbformat": 4,
 "nbformat_minor": 0
}

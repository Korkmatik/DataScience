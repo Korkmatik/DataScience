{
 "cells": [
  {
   "cell_type": "code",
   "execution_count": null,
   "metadata": {},
   "outputs": [],
   "source": []
  }
 ],
 "metadata": {
  "kernelspec": {
   "display_name": "mesa",
   "language": "python",
   "name": "python3"
  },
  "language_info": {
   "name": "python",
   "version": "3.10.9"
  },
  "orig_nbformat": 4,
  "vscode": {
   "interpreter": {
    "hash": "98a8c253f552f10d1562cbf0a72f1b96ab3d7e68789945774e6a2108045c5323"
   }
  }
 },
 "nbformat": 4,
 "nbformat_minor": 2
}

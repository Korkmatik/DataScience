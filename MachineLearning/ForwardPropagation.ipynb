{
 "cells": [
  {
   "cell_type": "code",
   "execution_count": 1,
   "metadata": {
    "collapsed": true
   },
   "outputs": [],
   "source": [
    "import numpy as np\n",
    "import pandas as pd\n",
    "from sklearn.model_selection import train_test_split"
   ]
  },
  {
   "cell_type": "markdown",
   "source": [
    "# Forward Propagation"
   ],
   "metadata": {
    "collapsed": false
   }
  },
  {
   "cell_type": "code",
   "execution_count": 2,
   "outputs": [
    {
     "data": {
      "text/plain": "0.6369710467706001"
     },
     "execution_count": 2,
     "metadata": {},
     "output_type": "execute_result"
    }
   ],
   "source": [
    "all_data = pd.read_csv(\"https://tinyurl.com/y2qmhfsr\")\n",
    "\n",
    "# Extract the input columns, scale down by 255\n",
    "all_inputs = (all_data.iloc[:, 0:3].values / 255.0)\n",
    "all_outputs = all_data.iloc[:, -1].values\n",
    "\n",
    "# Split train and test data sets\n",
    "X_train, X_test, Y_train, Y_test = train_test_split(all_inputs, all_outputs, test_size=1/3)\n",
    "n = X_train.shape[0]\n",
    "\n",
    "w_hidden = np.random.rand(3, 3)\n",
    "w_output = np.random.rand(1, 3)\n",
    "\n",
    "b_hidden = np.random.rand(3, 1)\n",
    "b_output = np.random.rand(1, 1)\n",
    "\n",
    "# Activation function\n",
    "relu = lambda x: np.maximum(x, 0)\n",
    "logistic = lambda x: 1 / ( 1 + np.exp(-x) )\n",
    "\n",
    "def forward_prop(X):\n",
    "    Z1 = w_hidden @ X + b_hidden\n",
    "    A1 = relu(Z1)\n",
    "    Z2 = w_output @ A1 + b_output\n",
    "    A2 = logistic(Z2)\n",
    "\n",
    "    return Z1, A1, Z2, A2\n",
    "\n",
    "# Calculate accuracy\n",
    "test_predictions = forward_prop(X_test.transpose())[3]\n",
    "test_comparisons = np.equal((test_predictions >= .5).flatten().astype(int), Y_test)\n",
    "accuracy = sum(test_comparisons.astype(int) / X_test.shape[0])\n",
    "accuracy"
   ],
   "metadata": {
    "collapsed": false
   }
  },
  {
   "cell_type": "code",
   "execution_count": null,
   "outputs": [],
   "source": [],
   "metadata": {
    "collapsed": false
   }
  }
 ],
 "metadata": {
  "kernelspec": {
   "display_name": "Python 3",
   "language": "python",
   "name": "python3"
  },
  "language_info": {
   "codemirror_mode": {
    "name": "ipython",
    "version": 2
   },
   "file_extension": ".py",
   "mimetype": "text/x-python",
   "name": "python",
   "nbconvert_exporter": "python",
   "pygments_lexer": "ipython2",
   "version": "2.7.6"
  }
 },
 "nbformat": 4,
 "nbformat_minor": 0
}

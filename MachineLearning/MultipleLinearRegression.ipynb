{
 "cells": [
  {
   "cell_type": "code",
   "execution_count": 1,
   "metadata": {
    "collapsed": true
   },
   "outputs": [],
   "source": [
    "import pandas as pd\n",
    "\n",
    "from sklearn.linear_model import LinearRegression"
   ]
  },
  {
   "cell_type": "code",
   "execution_count": 2,
   "outputs": [
    {
     "data": {
      "text/plain": "   x1  x2   y\n0   0  22  88\n1   1  13  62\n2   1  15  67\n3   1  14  62\n4   2  18  77",
      "text/html": "<div>\n<style scoped>\n    .dataframe tbody tr th:only-of-type {\n        vertical-align: middle;\n    }\n\n    .dataframe tbody tr th {\n        vertical-align: top;\n    }\n\n    .dataframe thead th {\n        text-align: right;\n    }\n</style>\n<table border=\"1\" class=\"dataframe\">\n  <thead>\n    <tr style=\"text-align: right;\">\n      <th></th>\n      <th>x1</th>\n      <th>x2</th>\n      <th>y</th>\n    </tr>\n  </thead>\n  <tbody>\n    <tr>\n      <th>0</th>\n      <td>0</td>\n      <td>22</td>\n      <td>88</td>\n    </tr>\n    <tr>\n      <th>1</th>\n      <td>1</td>\n      <td>13</td>\n      <td>62</td>\n    </tr>\n    <tr>\n      <th>2</th>\n      <td>1</td>\n      <td>15</td>\n      <td>67</td>\n    </tr>\n    <tr>\n      <th>3</th>\n      <td>1</td>\n      <td>14</td>\n      <td>62</td>\n    </tr>\n    <tr>\n      <th>4</th>\n      <td>2</td>\n      <td>18</td>\n      <td>77</td>\n    </tr>\n  </tbody>\n</table>\n</div>"
     },
     "execution_count": 2,
     "metadata": {},
     "output_type": "execute_result"
    }
   ],
   "source": [
    "df = pd.read_csv(\"https://bit.ly/2X1HWH7\", delimiter=\",\")\n",
    "df.head()"
   ],
   "metadata": {
    "collapsed": false
   }
  },
  {
   "cell_type": "code",
   "execution_count": 7,
   "outputs": [
    {
     "data": {
      "text/plain": "array([[ 0, 22],\n       [ 1, 13],\n       [ 1, 15],\n       [ 1, 14],\n       [ 2, 18],\n       [ 2, 13],\n       [ 2, 11],\n       [ 3,  2],\n       [ 3, 13],\n       [ 4, 16],\n       [ 4,  7],\n       [ 4, 28],\n       [ 4, 18],\n       [ 4,  6],\n       [ 5, 20],\n       [ 6,  3],\n       [ 7, 23],\n       [ 8, 16],\n       [ 8,  5],\n       [ 9, 18],\n       [10,  9],\n       [10, 19],\n       [10, 15],\n       [11,  6],\n       [11, 13],\n       [13,  2],\n       [13, 17],\n       [14, 30],\n       [14, 29],\n       [15, 27],\n       [16,  5],\n       [17, 21],\n       [17, 21],\n       [17,  7],\n       [17, 24],\n       [17, 12],\n       [18, 26],\n       [18,  1],\n       [20, 30],\n       [21,  1],\n       [21,  9],\n       [21, 25],\n       [21,  6],\n       [22, 21],\n       [23,  1],\n       [23,  9],\n       [23, 20],\n       [23,  5],\n       [23, 30],\n       [24, 14],\n       [24,  6],\n       [24, 26],\n       [24,  3],\n       [25,  5],\n       [25, 27],\n       [25, 14],\n       [26, 10],\n       [26, 16],\n       [27, 16],\n       [27,  3],\n       [28, 13],\n       [28,  2],\n       [28, 15],\n       [28, 24],\n       [28, 12],\n       [29, 12],\n       [30,  2],\n       [30,  3],\n       [30, 18]], dtype=int64)"
     },
     "execution_count": 7,
     "metadata": {},
     "output_type": "execute_result"
    }
   ],
   "source": [
    "X = df.values[:, :-1]\n",
    "X"
   ],
   "metadata": {
    "collapsed": false
   }
  },
  {
   "cell_type": "code",
   "execution_count": 8,
   "outputs": [
    {
     "data": {
      "text/plain": "array([ 88,  62,  67,  62,  77,  65,  56,  34,  66,  75,  49, 112,  82,\n        46,  92,  39, 105,  82,  51,  91,  67,  97,  87,  61,  80,  54,\n        98, 140, 135, 130,  68, 117, 115,  75, 127,  90, 136,  57, 152,\n        63,  89, 136,  79, 126,  71,  94, 128,  81, 155, 111,  86, 146,\n        76,  87, 150, 113, 103, 122, 120,  83, 115,  83, 119, 148, 111,\n       116,  87,  91, 136], dtype=int64)"
     },
     "execution_count": 8,
     "metadata": {},
     "output_type": "execute_result"
    }
   ],
   "source": [
    "Y = df.values[:, -1]\n",
    "Y"
   ],
   "metadata": {
    "collapsed": false
   }
  },
  {
   "cell_type": "code",
   "execution_count": 9,
   "outputs": [
    {
     "data": {
      "text/plain": "LinearRegression()"
     },
     "execution_count": 9,
     "metadata": {},
     "output_type": "execute_result"
    }
   ],
   "source": [
    "lr = LinearRegression()\n",
    "lr.fit(X, Y)"
   ],
   "metadata": {
    "collapsed": false
   }
  },
  {
   "cell_type": "code",
   "execution_count": 10,
   "outputs": [
    {
     "name": "stdout",
     "output_type": "stream",
     "text": [
      "Coefficient: [2.00672647 3.00203798]\n",
      "Intercept: 20.109432820035977\n"
     ]
    }
   ],
   "source": [
    "print(f\"Coefficient: {lr.coef_}\")\n",
    "print(f\"Intercept: {lr.intercept_}\")"
   ],
   "metadata": {
    "collapsed": false
   }
  }
 ],
 "metadata": {
  "kernelspec": {
   "display_name": "Python 3",
   "language": "python",
   "name": "python3"
  },
  "language_info": {
   "codemirror_mode": {
    "name": "ipython",
    "version": 2
   },
   "file_extension": ".py",
   "mimetype": "text/x-python",
   "name": "python",
   "nbconvert_exporter": "python",
   "pygments_lexer": "ipython2",
   "version": "2.7.6"
  }
 },
 "nbformat": 4,
 "nbformat_minor": 0
}
